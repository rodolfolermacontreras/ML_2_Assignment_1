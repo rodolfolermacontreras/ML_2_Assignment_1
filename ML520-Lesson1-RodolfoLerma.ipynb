{
 "cells": [
  {
   "cell_type": "markdown",
   "metadata": {},
   "source": [
    "# Intro to Advanced ML\n",
    "\n",
    "## Student: Rodolfo Lerma"
   ]
  },
  {
   "cell_type": "markdown",
   "metadata": {},
   "source": [
    "## Multiclass Classification\n",
    "\n",
    "While binary classifiers are used to distinguish between two classes (e.g. detect if a transaction is a fraudulent one, classify an email into either spam or non-spam and etc.), multiclass classifiers distinguish between more than two classes. \n",
    "\n",
    "There are various ways that we can use to perform multiclass classification by leveraging any binary classifiers. In this exercise, you will implement two such strategies for multiclass classification: _One-versus-all_ strategy and _One-versus-one_ strategy.\n",
    "\n",
    "- **One-versus-all (OvA)**: In this strategy, we train a single binary classifier per class, with the samples of that class as positive samples and all other samples as negatives. During inference, we get the prediction from each classifier and select the class with the highest score. This strategy is also called the one-versus-the-rest strtegey. \n",
    "\n",
    "- **One-versus-one (OvO)**: In this strategy, we train a binary classifier for every pair of classes. If there are N classes in the problem, you need to train N * (N-1) / 2 classifiers. During inference, we have to run through all N * (N-1) / 2 classifiers and ses which class wins the most votes. The main advantage of OvO strategy is that each binary classifier only needs to be train on the part of the training dataset for the two classes that it needs to separate. "
   ]
  },
  {
   "cell_type": "code",
   "execution_count": 1,
   "metadata": {},
   "outputs": [],
   "source": [
    "# import packages\n",
    "%matplotlib inline\n",
    "import numpy as np\n",
    "import matplotlib.pyplot as plt\n",
    "import pandas as pd\n",
    "from sklearn import datasets\n",
    "from sklearn.linear_model import LogisticRegression\n",
    "\n",
    "# make this notebook's output stable across runs\n",
    "np.random.seed(0)"
   ]
  },
  {
   "cell_type": "markdown",
   "metadata": {},
   "source": [
    "## Avila Dataset\n",
    "\n",
    "In this lab assignment, we use the [Avila](https://archive.ics.uci.edu/ml/datasets/Avila) data set has been extracted from 800 images of the the \"Avila Bible\", a giant Latin copy of the whole Bible produced during the XII century between Italy and Spain.  \n",
    "The palaeographic analysis of the  manuscript has  individuated the presence of 12 copyists. The pages written by each copyist are not equally numerous. \n",
    "Each pattern contains 10 features and corresponds to a group of 4 consecutive rows.\n",
    "\n",
    "The prediction task consists in associating each pattern to one of the 12 copyists (labeled as: A, B, C, D, E, F, G, H, I, W, X, Y).\n",
    "The data have has been normalized, by using the Z-normalization method, and divided in two data sets: a training set containing 10430 samples, and a test set  containing the 10437 samples.\n"
   ]
  },
  {
   "cell_type": "code",
   "execution_count": 2,
   "metadata": {},
   "outputs": [],
   "source": [
    "# Load train and test data from CSV files.\n",
    "train = pd.read_csv(\"avila-tr.txt\", header=None)\n",
    "test = pd.read_csv(\"avila-ts.txt\", header=None)\n",
    "\n",
    "x_train = train.iloc[:,:-1]\n",
    "y_train = train.iloc[:,-1]\n",
    "\n",
    "x_test = test.iloc[:,:-1]\n",
    "y_test = test.iloc[:,-1]"
   ]
  },
  {
   "cell_type": "markdown",
   "metadata": {},
   "source": [
    "### Output the number of images in each class in the train and test datasets."
   ]
  },
  {
   "cell_type": "code",
   "execution_count": 3,
   "metadata": {},
   "outputs": [
    {
     "data": {
      "text/html": [
       "<div>\n",
       "<style scoped>\n",
       "    .dataframe tbody tr th:only-of-type {\n",
       "        vertical-align: middle;\n",
       "    }\n",
       "\n",
       "    .dataframe tbody tr th {\n",
       "        vertical-align: top;\n",
       "    }\n",
       "\n",
       "    .dataframe thead th {\n",
       "        text-align: right;\n",
       "    }\n",
       "</style>\n",
       "<table border=\"1\" class=\"dataframe\">\n",
       "  <thead>\n",
       "    <tr style=\"text-align: right;\">\n",
       "      <th></th>\n",
       "      <th>0</th>\n",
       "      <th>1</th>\n",
       "      <th>2</th>\n",
       "      <th>3</th>\n",
       "      <th>4</th>\n",
       "      <th>5</th>\n",
       "      <th>6</th>\n",
       "      <th>7</th>\n",
       "      <th>8</th>\n",
       "      <th>9</th>\n",
       "      <th>10</th>\n",
       "    </tr>\n",
       "  </thead>\n",
       "  <tbody>\n",
       "    <tr>\n",
       "      <th>0</th>\n",
       "      <td>0.266074</td>\n",
       "      <td>-0.165620</td>\n",
       "      <td>0.320980</td>\n",
       "      <td>0.483299</td>\n",
       "      <td>0.172340</td>\n",
       "      <td>0.273364</td>\n",
       "      <td>0.371178</td>\n",
       "      <td>0.929823</td>\n",
       "      <td>0.251173</td>\n",
       "      <td>0.159345</td>\n",
       "      <td>A</td>\n",
       "    </tr>\n",
       "    <tr>\n",
       "      <th>1</th>\n",
       "      <td>0.130292</td>\n",
       "      <td>0.870736</td>\n",
       "      <td>-3.210528</td>\n",
       "      <td>0.062493</td>\n",
       "      <td>0.261718</td>\n",
       "      <td>1.436060</td>\n",
       "      <td>1.465940</td>\n",
       "      <td>0.636203</td>\n",
       "      <td>0.282354</td>\n",
       "      <td>0.515587</td>\n",
       "      <td>A</td>\n",
       "    </tr>\n",
       "    <tr>\n",
       "      <th>2</th>\n",
       "      <td>-0.116585</td>\n",
       "      <td>0.069915</td>\n",
       "      <td>0.068476</td>\n",
       "      <td>-0.783147</td>\n",
       "      <td>0.261718</td>\n",
       "      <td>0.439463</td>\n",
       "      <td>-0.081827</td>\n",
       "      <td>-0.888236</td>\n",
       "      <td>-0.123005</td>\n",
       "      <td>0.582939</td>\n",
       "      <td>A</td>\n",
       "    </tr>\n",
       "    <tr>\n",
       "      <th>3</th>\n",
       "      <td>0.031541</td>\n",
       "      <td>0.297600</td>\n",
       "      <td>-3.210528</td>\n",
       "      <td>-0.583590</td>\n",
       "      <td>-0.721442</td>\n",
       "      <td>-0.307984</td>\n",
       "      <td>0.710932</td>\n",
       "      <td>1.051693</td>\n",
       "      <td>0.594169</td>\n",
       "      <td>-0.533994</td>\n",
       "      <td>A</td>\n",
       "    </tr>\n",
       "    <tr>\n",
       "      <th>4</th>\n",
       "      <td>0.229043</td>\n",
       "      <td>0.807926</td>\n",
       "      <td>-0.052442</td>\n",
       "      <td>0.082634</td>\n",
       "      <td>0.261718</td>\n",
       "      <td>0.148790</td>\n",
       "      <td>0.635431</td>\n",
       "      <td>0.051062</td>\n",
       "      <td>0.032902</td>\n",
       "      <td>-0.086652</td>\n",
       "      <td>F</td>\n",
       "    </tr>\n",
       "  </tbody>\n",
       "</table>\n",
       "</div>"
      ],
      "text/plain": [
       "         0         1         2         3         4         5         6   \\\n",
       "0  0.266074 -0.165620  0.320980  0.483299  0.172340  0.273364  0.371178   \n",
       "1  0.130292  0.870736 -3.210528  0.062493  0.261718  1.436060  1.465940   \n",
       "2 -0.116585  0.069915  0.068476 -0.783147  0.261718  0.439463 -0.081827   \n",
       "3  0.031541  0.297600 -3.210528 -0.583590 -0.721442 -0.307984  0.710932   \n",
       "4  0.229043  0.807926 -0.052442  0.082634  0.261718  0.148790  0.635431   \n",
       "\n",
       "         7         8         9  10  \n",
       "0  0.929823  0.251173  0.159345  A  \n",
       "1  0.636203  0.282354  0.515587  A  \n",
       "2 -0.888236 -0.123005  0.582939  A  \n",
       "3  1.051693  0.594169 -0.533994  A  \n",
       "4  0.051062  0.032902 -0.086652  F  "
      ]
     },
     "execution_count": 3,
     "metadata": {},
     "output_type": "execute_result"
    }
   ],
   "source": [
    "train.head()"
   ]
  },
  {
   "cell_type": "code",
   "execution_count": 4,
   "metadata": {},
   "outputs": [
    {
     "data": {
      "text/plain": [
       "(10430, 11)"
      ]
     },
     "execution_count": 4,
     "metadata": {},
     "output_type": "execute_result"
    }
   ],
   "source": [
    "train.shape"
   ]
  },
  {
   "cell_type": "code",
   "execution_count": 5,
   "metadata": {},
   "outputs": [
    {
     "data": {
      "text/plain": [
       "A    4286\n",
       "F    1961\n",
       "E    1095\n",
       "I     831\n",
       "X     522\n",
       "H     519\n",
       "G     446\n",
       "D     352\n",
       "Y     266\n",
       "C     103\n",
       "W      44\n",
       "B       5\n",
       "Name: 10, dtype: int64"
      ]
     },
     "execution_count": 5,
     "metadata": {},
     "output_type": "execute_result"
    }
   ],
   "source": [
    "train[10].value_counts()"
   ]
  },
  {
   "cell_type": "code",
   "execution_count": 6,
   "metadata": {},
   "outputs": [
    {
     "data": {
      "text/html": [
       "<div>\n",
       "<style scoped>\n",
       "    .dataframe tbody tr th:only-of-type {\n",
       "        vertical-align: middle;\n",
       "    }\n",
       "\n",
       "    .dataframe tbody tr th {\n",
       "        vertical-align: top;\n",
       "    }\n",
       "\n",
       "    .dataframe thead th {\n",
       "        text-align: right;\n",
       "    }\n",
       "</style>\n",
       "<table border=\"1\" class=\"dataframe\">\n",
       "  <thead>\n",
       "    <tr style=\"text-align: right;\">\n",
       "      <th></th>\n",
       "      <th>0</th>\n",
       "      <th>1</th>\n",
       "      <th>2</th>\n",
       "      <th>3</th>\n",
       "      <th>4</th>\n",
       "      <th>5</th>\n",
       "      <th>6</th>\n",
       "      <th>7</th>\n",
       "      <th>8</th>\n",
       "      <th>9</th>\n",
       "      <th>10</th>\n",
       "    </tr>\n",
       "  </thead>\n",
       "  <tbody>\n",
       "    <tr>\n",
       "      <th>0</th>\n",
       "      <td>-3.498799</td>\n",
       "      <td>0.250492</td>\n",
       "      <td>0.232070</td>\n",
       "      <td>1.224178</td>\n",
       "      <td>-4.922215</td>\n",
       "      <td>1.145386</td>\n",
       "      <td>0.182426</td>\n",
       "      <td>-0.165983</td>\n",
       "      <td>-0.123005</td>\n",
       "      <td>1.087144</td>\n",
       "      <td>W</td>\n",
       "    </tr>\n",
       "    <tr>\n",
       "      <th>1</th>\n",
       "      <td>0.204355</td>\n",
       "      <td>-0.354049</td>\n",
       "      <td>0.320980</td>\n",
       "      <td>0.410166</td>\n",
       "      <td>-0.989576</td>\n",
       "      <td>-2.218127</td>\n",
       "      <td>0.220177</td>\n",
       "      <td>0.181844</td>\n",
       "      <td>2.090879</td>\n",
       "      <td>-2.009758</td>\n",
       "      <td>A</td>\n",
       "    </tr>\n",
       "    <tr>\n",
       "      <th>2</th>\n",
       "      <td>0.759828</td>\n",
       "      <td>-1.304042</td>\n",
       "      <td>-0.023991</td>\n",
       "      <td>-0.973663</td>\n",
       "      <td>-0.006417</td>\n",
       "      <td>-0.349509</td>\n",
       "      <td>-0.421580</td>\n",
       "      <td>-0.450127</td>\n",
       "      <td>0.469443</td>\n",
       "      <td>0.060952</td>\n",
       "      <td>I</td>\n",
       "    </tr>\n",
       "    <tr>\n",
       "      <th>3</th>\n",
       "      <td>-0.005490</td>\n",
       "      <td>0.360409</td>\n",
       "      <td>0.281860</td>\n",
       "      <td>-0.213479</td>\n",
       "      <td>-1.168333</td>\n",
       "      <td>-1.013906</td>\n",
       "      <td>-0.346080</td>\n",
       "      <td>1.176165</td>\n",
       "      <td>0.968347</td>\n",
       "      <td>-0.627999</td>\n",
       "      <td>E</td>\n",
       "    </tr>\n",
       "    <tr>\n",
       "      <th>4</th>\n",
       "      <td>0.080916</td>\n",
       "      <td>0.101320</td>\n",
       "      <td>0.104040</td>\n",
       "      <td>0.140490</td>\n",
       "      <td>0.261718</td>\n",
       "      <td>0.480988</td>\n",
       "      <td>0.710932</td>\n",
       "      <td>-0.253430</td>\n",
       "      <td>-0.497183</td>\n",
       "      <td>0.155681</td>\n",
       "      <td>A</td>\n",
       "    </tr>\n",
       "  </tbody>\n",
       "</table>\n",
       "</div>"
      ],
      "text/plain": [
       "         0         1         2         3         4         5         6   \\\n",
       "0 -3.498799  0.250492  0.232070  1.224178 -4.922215  1.145386  0.182426   \n",
       "1  0.204355 -0.354049  0.320980  0.410166 -0.989576 -2.218127  0.220177   \n",
       "2  0.759828 -1.304042 -0.023991 -0.973663 -0.006417 -0.349509 -0.421580   \n",
       "3 -0.005490  0.360409  0.281860 -0.213479 -1.168333 -1.013906 -0.346080   \n",
       "4  0.080916  0.101320  0.104040  0.140490  0.261718  0.480988  0.710932   \n",
       "\n",
       "         7         8         9  10  \n",
       "0 -0.165983 -0.123005  1.087144  W  \n",
       "1  0.181844  2.090879 -2.009758  A  \n",
       "2 -0.450127  0.469443  0.060952  I  \n",
       "3  1.176165  0.968347 -0.627999  E  \n",
       "4 -0.253430 -0.497183  0.155681  A  "
      ]
     },
     "execution_count": 6,
     "metadata": {},
     "output_type": "execute_result"
    }
   ],
   "source": [
    "test.head()"
   ]
  },
  {
   "cell_type": "code",
   "execution_count": 7,
   "metadata": {},
   "outputs": [
    {
     "data": {
      "text/plain": [
       "(10437, 11)"
      ]
     },
     "execution_count": 7,
     "metadata": {},
     "output_type": "execute_result"
    }
   ],
   "source": [
    "test.shape"
   ]
  },
  {
   "cell_type": "code",
   "execution_count": 8,
   "metadata": {},
   "outputs": [
    {
     "data": {
      "text/plain": [
       "A    4286\n",
       "F    1962\n",
       "E    1095\n",
       "I     832\n",
       "X     522\n",
       "H     520\n",
       "G     447\n",
       "D     353\n",
       "Y     267\n",
       "C     103\n",
       "W      45\n",
       "B       5\n",
       "Name: 10, dtype: int64"
      ]
     },
     "execution_count": 8,
     "metadata": {},
     "output_type": "execute_result"
    }
   ],
   "source": [
    "test[10].value_counts()"
   ]
  },
  {
   "cell_type": "markdown",
   "metadata": {},
   "source": [
    "Question 1.1: Check for missing Data"
   ]
  },
  {
   "cell_type": "code",
   "execution_count": 9,
   "metadata": {},
   "outputs": [
    {
     "data": {
      "text/plain": [
       "0     0\n",
       "1     0\n",
       "2     0\n",
       "3     0\n",
       "4     0\n",
       "5     0\n",
       "6     0\n",
       "7     0\n",
       "8     0\n",
       "9     0\n",
       "10    0\n",
       "dtype: int64"
      ]
     },
     "execution_count": 9,
     "metadata": {},
     "output_type": "execute_result"
    }
   ],
   "source": [
    "train.isnull().sum()"
   ]
  },
  {
   "cell_type": "markdown",
   "metadata": {},
   "source": [
    "No missing data on the training dataset"
   ]
  },
  {
   "cell_type": "code",
   "execution_count": 10,
   "metadata": {},
   "outputs": [
    {
     "data": {
      "text/plain": [
       "0     0\n",
       "1     0\n",
       "2     0\n",
       "3     0\n",
       "4     0\n",
       "5     0\n",
       "6     0\n",
       "7     0\n",
       "8     0\n",
       "9     0\n",
       "10    0\n",
       "dtype: int64"
      ]
     },
     "execution_count": 10,
     "metadata": {},
     "output_type": "execute_result"
    }
   ],
   "source": [
    "test.isnull().sum()"
   ]
  },
  {
   "cell_type": "markdown",
   "metadata": {},
   "source": [
    "No missing data on the test dataset as well."
   ]
  },
  {
   "cell_type": "markdown",
   "metadata": {},
   "source": [
    "## Data Exploration"
   ]
  },
  {
   "cell_type": "code",
   "execution_count": 11,
   "metadata": {},
   "outputs": [
    {
     "data": {
      "image/png": "[encoded data removed]",
      "text/plain": [
       "<Figure size 864x648 with 2 Axes>"
      ]
     },
     "metadata": {
      "needs_background": "light"
     },
     "output_type": "display_data"
    }
   ],
   "source": [
    "import seaborn as sns\n",
    "\n",
    "corr = train.corr()\n",
    "hm_fig, hm_ax = plt.subplots(figsize=(12,9))\n",
    "mask = np.logical_not(np.tril(np.ones_like(corr, dtype=np.bool)))\n",
    "sns.heatmap(\n",
    "    corr,\n",
    "    annot=True,\n",
    "    mask=mask,\n",
    "    fmt='.3f',\n",
    "    ax=hm_ax,\n",
    "    cmap=sns.light_palette('#9c462f', n_colors=300),\n",
    ")\n",
    "hm_ax.set_xticklabels(hm_ax.get_xticklabels(), rotation=45)\n",
    "hm_ax.set_title('Avila dataset correlation matrix')\n",
    "hm_ax.patch.set_alpha(0);"
   ]
  },
  {
   "cell_type": "markdown",
   "metadata": {},
   "source": [
    "### Question 1.2: Apply Z-normalization to data"
   ]
  },
  {
   "cell_type": "code",
   "execution_count": 12,
   "metadata": {},
   "outputs": [],
   "source": [
    "#Columns to list\n",
    "columns_train = train.columns.to_list()\n",
    "columns_test = test.columns.to_list()\n",
    "\n",
    "#Removing the target variable\n",
    "columns_train.remove(10)\n",
    "columns_test.remove(10)"
   ]
  },
  {
   "cell_type": "code",
   "execution_count": 13,
   "metadata": {},
   "outputs": [],
   "source": [
    "def normalization_format(numeric_columns, df):\n",
    "    from sklearn.preprocessing import StandardScaler\n",
    "    scaler = StandardScaler()\n",
    "    scaler.fit(df[numeric_columns])\n",
    "    data_scaled = scaler.transform(df[numeric_columns])\n",
    "    df1 = pd.DataFrame(data_scaled, columns = numeric_columns)\n",
    "    return df1"
   ]
  },
  {
   "cell_type": "code",
   "execution_count": 14,
   "metadata": {},
   "outputs": [],
   "source": [
    "#Normalization of train dataset\n",
    "train_norm = normalization_format(columns_train, train)\n",
    "\n",
    "#Normalization of test dataset\n",
    "test_norm = normalization_format(columns_test, test)"
   ]
  },
  {
   "cell_type": "markdown",
   "metadata": {},
   "source": [
    "### Question 2.1: Write a method to train multiple logistic regression models performing One vs All (OvA) classification. The method allows you to pass in training features, and target. The method returns a list of models and their associated labels. \n",
    "\n",
    "Within the method:\n",
    "- Determine the list of classes\n",
    "- Create a place to store all the models\n",
    "- For each class, train a model with the target variable set to 1 and 0 for all other classes\n",
    "- Return the list of models trained and associated labels."
   ]
  },
  {
   "cell_type": "code",
   "execution_count": 118,
   "metadata": {},
   "outputs": [],
   "source": [
    "##EXAMPLE\n",
    "\n",
    "# yei = yup[10].astype('category')\n",
    "# labels = sorted(yei.unique())\n",
    "# n_labels = len(labels)\n",
    "# model_labels = [None] * n_labels\n",
    "\n",
    "# for i in range(n_labels):\n",
    "#     label = labels[i]\n",
    "#     print(\"Train Logistic Regression model for class {}\".format(label))\n",
    "#     # Update the label according to OvA strategy\n",
    "#     # Transforming the label/target column to a One Vs All for each of the categories\n",
    "#     binary_labels = []\n",
    "#     for j in range(len(yup[10])):\n",
    "#         if yup[10][j] == label:\n",
    "#             z = 1\n",
    "#         else:\n",
    "#             z = 0\n",
    "#         binary_labels.append(z)\n",
    "#     model_labels[i] = binary_labels"
   ]
  },
  {
   "cell_type": "code",
   "execution_count": 15,
   "metadata": {},
   "outputs": [],
   "source": [
    "def trainOvA(x, y):\n",
    "    \"\"\"\n",
    "    TODO: Train the multiclass classifier using OvA strategy. \n",
    "    \"\"\"\n",
    "    from sklearn import linear_model\n",
    "    \n",
    "    labels = y.astype('category')\n",
    "    labels = sorted(labels.unique())\n",
    "    n_labels = len(labels)\n",
    "    print(\"number of classes is {}\".format(n_labels))\n",
    "\n",
    "    #Create model\n",
    "    models = [None] * n_labels\n",
    "    model_labels = [None] * n_labels     \n",
    "\n",
    "    for i in range(n_labels):\n",
    "        label = labels[i]\n",
    "        print(\"Train Logistic Regression model for class {}\".format(label))\n",
    "        # update the label according to OvA strategy\n",
    "        # Transforming the label/target column to a One Vs All for each of the categories\n",
    "        binary_labels = []\n",
    "        for j in range(len(y)):\n",
    "            if y[j] == label:\n",
    "                z = 1\n",
    "            else:\n",
    "                z = 0\n",
    "            binary_labels.append(z)\n",
    "        \n",
    "        # Train model\n",
    "        lr = linear_model.LogisticRegression()\n",
    "        models[i] =  lr.fit(x, binary_labels)\n",
    "        model_labels[i] = binary_labels\n",
    "        \n",
    "    return models, model_labels, labels"
   ]
  },
  {
   "cell_type": "markdown",
   "metadata": {},
   "source": [
    "### Question 2.2: Write a method that leverage the multiple models train for OvA, and outputs the majority class."
   ]
  },
  {
   "cell_type": "code",
   "execution_count": 29,
   "metadata": {},
   "outputs": [],
   "source": [
    "def predictOvA(models, labels, x):\n",
    "    \"\"\"\n",
    "    TODO: Make predictions on multiclass problems using the OvA strategy. \n",
    "    \"\"\"\n",
    "    if models == None:\n",
    "        sys.exit(\"The model has not been trained yet. Please call train() first. Exiting...\")\n",
    "\n",
    "    #Create prediction\n",
    "    n_labels = len(labels)\n",
    "    proba_prediction = [None] * n_labels \n",
    "    prediction = [None] * n_labels\n",
    "    positive_proba = [None] * n_labels\n",
    "    \n",
    "    for i in range(n_labels):\n",
    "        proba_prediction[i] = models[i].predict_proba(x)\n",
    "        w = proba_prediction[i]\n",
    "        positive_proba[i] = w[:,1]\n",
    "        prediction[i] = models[i].predict(test_norm)\n",
    "    \n",
    "    df_proba = pd.DataFrame()\n",
    "    for i in range(n_labels):\n",
    "        df_proba[i] = positive_proba[i]\n",
    "        \n",
    "    df_proba.columns = labels\n",
    "    \n",
    "    return df_proba, df_proba.idxmax(axis=1).values"
   ]
  },
  {
   "cell_type": "code",
   "execution_count": 113,
   "metadata": {},
   "outputs": [],
   "source": [
    "\n",
    "# labels = sorted(train[10].unique())\n",
    "\n",
    "# n_labels = len(labels)\n",
    "# proba_prediction = [None] * n_labels \n",
    "# prediction = [None] * n_labels\n",
    "# positive_proba = [None] * n_labels\n",
    "\n",
    "# for i in range(n_labels):\n",
    "#     proba_prediction[i] = models[i].predict_proba(test_norm)\n",
    "#     x = proba_prediction[i]\n",
    "#     positive_proba[i] = x[:,1]\n",
    "#     prediction[i] = models[i].predict(test_norm)\n",
    "\n",
    "# df_proba = pd.DataFrame()\n",
    "# for i in range(n_labels):\n",
    "#     df_proba[i] = positive_proba[i]"
   ]
  },
  {
   "cell_type": "markdown",
   "metadata": {},
   "source": [
    "### Question 2.3: Train OvA model on the Avila dataset"
   ]
  },
  {
   "cell_type": "code",
   "execution_count": 17,
   "metadata": {},
   "outputs": [],
   "source": [
    "target_train = train[10]\n",
    "target_test = test[10]"
   ]
  },
  {
   "cell_type": "code",
   "execution_count": 18,
   "metadata": {},
   "outputs": [
    {
     "name": "stdout",
     "output_type": "stream",
     "text": [
      "number of classes is 12\n",
      "Train Logistic Regression model for class A\n",
      "Train Logistic Regression model for class B\n",
      "Train Logistic Regression model for class C\n",
      "Train Logistic Regression model for class D\n",
      "Train Logistic Regression model for class E\n",
      "Train Logistic Regression model for class F\n",
      "Train Logistic Regression model for class G\n",
      "Train Logistic Regression model for class H\n",
      "Train Logistic Regression model for class I\n",
      "Train Logistic Regression model for class W\n",
      "Train Logistic Regression model for class X\n",
      "Train Logistic Regression model for class Y\n"
     ]
    }
   ],
   "source": [
    "from sklearn.linear_model import LogisticRegression\n",
    "models, model_labels, labels_list  = trainOvA(train_norm, target_train)"
   ]
  },
  {
   "cell_type": "markdown",
   "metadata": {},
   "source": [
    "### Question 2.4: Predict and evalutate the results of your model"
   ]
  },
  {
   "cell_type": "code",
   "execution_count": 20,
   "metadata": {},
   "outputs": [],
   "source": [
    "labels = test[10].astype('category')\n",
    "labels = sorted(labels.unique())"
   ]
  },
  {
   "cell_type": "code",
   "execution_count": 30,
   "metadata": {},
   "outputs": [],
   "source": [
    "df_proba, te_z_ova = predictOvA(models, labels, test_norm)"
   ]
  },
  {
   "cell_type": "code",
   "execution_count": 25,
   "metadata": {},
   "outputs": [],
   "source": [
    "target_test_list = target_test.tolist()\n",
    "prediction_test_list = te_z_ova.tolist()"
   ]
  },
  {
   "cell_type": "code",
   "execution_count": 34,
   "metadata": {},
   "outputs": [
    {
     "name": "stdout",
     "output_type": "stream",
     "text": [
      "Accuracy of OvA classifier is 0.5279294816518156.\n",
      "Confusion matrix of OvA classifier: \n",
      " [[4061   10    3    0   28  101    0   12   54    0   12    5]\n",
      " [   0    5    0    0    0    0    0    0    0    0    0    0]\n",
      " [  69    4    0    0   10   12    0    0    8    0    0    0]\n",
      " [ 301    0    0    0   14   13    0   12   11    0    2    0]\n",
      " [ 834    2    0    0  114   55    0   17   23    0   49    1]\n",
      " [1819   10    2    0    3   84    0    4   34    0    2    4]\n",
      " [ 356    0    0    0    4   78    0    5    1    0    3    0]\n",
      " [ 324    0    0    0   30  102    0   44   19    0    1    0]\n",
      " [  51    0    0    1    1    6    0    4  743    0   15   11]\n",
      " [  35    0    0    0    9    0    0    0    0    0    1    0]\n",
      " [  70    0    0    0    9    0    0    7   52    0  367   17]\n",
      " [  43    0    0    0    1    0    0    0  103    0   28   92]]\n"
     ]
    }
   ],
   "source": [
    "from sklearn.metrics import accuracy_score\n",
    "from sklearn.metrics import confusion_matrix\n",
    "\n",
    "ova_accuracy = accuracy_score(target_test, te_z_ova)\n",
    "ova_confuction_matrix = confusion_matrix(target_test, te_z_ova)\n",
    "\n",
    "print(\"Accuracy of OvA classifier is {}.\".format(ova_accuracy))\n",
    "print(\"Confusion matrix of OvA classifier: \\n {}\".format(ova_confuction_matrix))"
   ]
  },
  {
   "cell_type": "code",
   "execution_count": 43,
   "metadata": {},
   "outputs": [
    {
     "data": {
      "text/plain": [
       "Text(0.5, 33.0, 'Predicted label')"
      ]
     },
     "execution_count": 43,
     "metadata": {},
     "output_type": "execute_result"
    },
    {
     "data": {
      "image/png": "[encoded data removed]",
      "text/plain": [
       "<Figure size 576x432 with 2 Axes>"
      ]
     },
     "metadata": {
      "needs_background": "light"
     },
     "output_type": "display_data"
    }
   ],
   "source": [
    "import seaborn as sns\n",
    "\n",
    "#Confusion matrix\n",
    "class_names = labels # name of classes\n",
    "fig, ax = plt.subplots(figsize=(8,6))\n",
    "tick_marks = np.arange(len(class_names))\n",
    "plt.xticks(tick_marks, class_names)\n",
    "plt.yticks(tick_marks, class_names)\n",
    "sns.heatmap(pd.DataFrame(ova_confuction_matrix), annot=True, cmap=\"YlGnBu\" ,fmt='g')\n",
    "plt.title('Confusion matrix', y=1.1)\n",
    "plt.ylabel('Actual label')\n",
    "plt.xlabel('Predicted label')"
   ]
  },
  {
   "cell_type": "code",
   "execution_count": 37,
   "metadata": {},
   "outputs": [
    {
     "data": {
      "text/plain": [
       "['A', 'B', 'C', 'D', 'E', 'F', 'G', 'H', 'I', 'W', 'X', 'Y']"
      ]
     },
     "execution_count": 37,
     "metadata": {},
     "output_type": "execute_result"
    }
   ],
   "source": [
    "labels"
   ]
  },
  {
   "cell_type": "markdown",
   "metadata": {},
   "source": [
    "It is possible to see that the performance of the model is bad, just slighly above average. This was expected given that some optimization is needed as the OVR strategy might have problems with class imbalance situations."
   ]
  },
  {
   "cell_type": "markdown",
   "metadata": {},
   "source": [
    "---"
   ]
  },
  {
   "cell_type": "markdown",
   "metadata": {},
   "source": [
    "### Question 3.1: Develop a method that trains a list of models based on the OvO stragety for multiclass classification using logistic regression. "
   ]
  },
  {
   "cell_type": "code",
   "execution_count": 98,
   "metadata": {},
   "outputs": [],
   "source": [
    "def trainOvO(x, y, labels):\n",
    "    \"\"\"\n",
    "    TODO: Train the multiclass classifier using OvO strategy. \n",
    "    \"\"\"\n",
    "    #labels = sorted(y.unique())\n",
    "    n_labels = len(labels)\n",
    "    n_models = int(len(labels) * (len(labels) - 1) / 2)\n",
    "    print(\"number of classes is {}\".format(n_labels))\n",
    "    \n",
    "    models = []\n",
    "    model_labels = []\n",
    "    model_idx = []\n",
    "    \n",
    "    for i in range(n_labels):\n",
    "        for j in range(i+1, n_labels):\n",
    "            label_i = labels[i]\n",
    "            label_j = labels[j]\n",
    "            print(\"Train Logistic Regression model to distinguish {} and {}\".format(label_i, label_j))\n",
    "\n",
    "            # update the label according to OvA strategy\n",
    "            df_target =  y.loc[y.isin([label_i, label_j])]\n",
    "            model_index = df_target.index.values.tolist()\n",
    "            \n",
    "            train_x = x.iloc[model_index]\n",
    "            train_y = y.iloc[model_index]\n",
    "\n",
    "            # construct the logistic regression instance\n",
    "            lr = LogisticRegression(solver = 'liblinear')\n",
    "            \n",
    "            #Do not forget to fit\n",
    "            model =  lr.fit(train_x, train_y) \n",
    "            models.append(model)\n",
    "            model_labels.append(train_y)\n",
    "            model_idx.append(model_index)\n",
    "        \n",
    "    return models, model_labels, model_idx"
   ]
  },
  {
   "cell_type": "code",
   "execution_count": 102,
   "metadata": {},
   "outputs": [],
   "source": [
    "# train_1 = train.copy()\n",
    "# train_target_1 = train_1[10]\n",
    "# train_target_1 = train_target_1.astype('category')  \n",
    "# train_1.drop(columns = 10, inplace = True)\n",
    "\n",
    "# n_labels = len(labels)\n",
    "# n_models = int(len(labels) * (len(labels) - 1) / 2)\n",
    "# print(\"number of classes is {}\".format(n_labels))\n",
    "\n",
    "# models = [None] * n_models\n",
    "# model_labels = [None] * n_models\n",
    "# model_index = [None] * n_models\n",
    "# model_idx = 0\n",
    "# other = []\n",
    "\n",
    "# for i in range(n_labels):\n",
    "#     for j in range(i+1, n_labels):\n",
    "#         label_i = labels[i]\n",
    "#         label_j = labels[j]\n",
    "#         print(\"Train Logistic Regression model to distinguish {} and {}\".format(label_i, label_j))\n",
    "        \n",
    "#         #df =  test[test[10] == label_i]\n",
    "#         df_k =  train.loc[train[10].isin([label_i, label_j])]\n",
    "#         model_index = df_k.index.values.tolist()\n",
    "        \n",
    "#         train_x = train_1.iloc[model_index]\n",
    "#         train_y = train_target_1.iloc[model_index]\n",
    "        \n",
    "#         lr = LogisticRegression()\n",
    "#         models =  lr.fit(train_x, train_y) \n",
    "#         other.append(models)"
   ]
  },
  {
   "cell_type": "markdown",
   "metadata": {},
   "source": [
    "### Question 3.2: Write a method that leverage the multiple models train for OvO, and outputs the majority class."
   ]
  },
  {
   "cell_type": "code",
   "execution_count": 124,
   "metadata": {},
   "outputs": [],
   "source": [
    "def predictOvO(models, labels, x):\n",
    "    \"\"\"\n",
    "    TODO: Make predictions on multiclass problems using the OvO strategy. \n",
    "    \"\"\"\n",
    "    if models == None:\n",
    "        sys.exit(\"The model has not been trained yet. Please call train() first. Exiting...\")\n",
    "\n",
    "    n_models = len(models)\n",
    "    predictions = []\n",
    "    model_num = []\n",
    "    \n",
    "    for i in range(n_models):\n",
    "        print(\"Working on Model {}\".format(i))        \n",
    "        pred = models[i].predict(x)\n",
    "        predictions.append(pred)\n",
    "        model_num.append(i)\n",
    "    \n",
    "    df_ovo = pd.DataFrame(predictions).T\n",
    "    \n",
    "    return df_ovo.mode(axis=1).iloc[:, 0].values , model_num"
   ]
  },
  {
   "cell_type": "code",
   "execution_count": 119,
   "metadata": {},
   "outputs": [],
   "source": [
    "# df_ovo = pd.DataFrame(predictions).T\n",
    "# df_ovo.mode(axis=1).iloc[:, 0].values"
   ]
  },
  {
   "cell_type": "code",
   "execution_count": 120,
   "metadata": {},
   "outputs": [],
   "source": [
    "# df_proba = pd.DataFrame()\n",
    "# for i in range(n_labels):\n",
    "#     df_proba[i] = positive_proba[i]\n",
    "\n",
    "# df_proba.columns = labels"
   ]
  },
  {
   "cell_type": "code",
   "execution_count": 121,
   "metadata": {},
   "outputs": [],
   "source": [
    "# n_models = len(models)\n",
    "# predictions = []\n",
    "\n",
    "# for i in range(n_models):\n",
    "#     print(\"Working on Model {}\".format(i)) \n",
    "#     pred = models[i].predict(test_norm)\n",
    "#     predictions.append(pred)"
   ]
  },
  {
   "cell_type": "code",
   "execution_count": 110,
   "metadata": {},
   "outputs": [],
   "source": [
    "# predictions.mode(axis=1).iloc[:, 0].values"
   ]
  },
  {
   "cell_type": "markdown",
   "metadata": {},
   "source": [
    "### Question 3.3: Train OvO model on the Avila dataset"
   ]
  },
  {
   "cell_type": "code",
   "execution_count": 99,
   "metadata": {},
   "outputs": [
    {
     "name": "stdout",
     "output_type": "stream",
     "text": [
      "number of classes is 12\n",
      "Train Logistic Regression model to distinguish A and B\n",
      "Train Logistic Regression model to distinguish A and C\n",
      "Train Logistic Regression model to distinguish A and D\n",
      "Train Logistic Regression model to distinguish A and E\n",
      "Train Logistic Regression model to distinguish A and F\n",
      "Train Logistic Regression model to distinguish A and G\n",
      "Train Logistic Regression model to distinguish A and H\n",
      "Train Logistic Regression model to distinguish A and I\n",
      "Train Logistic Regression model to distinguish A and W\n",
      "Train Logistic Regression model to distinguish A and X\n",
      "Train Logistic Regression model to distinguish A and Y\n",
      "Train Logistic Regression model to distinguish B and C\n",
      "Train Logistic Regression model to distinguish B and D\n",
      "Train Logistic Regression model to distinguish B and E\n",
      "Train Logistic Regression model to distinguish B and F\n",
      "Train Logistic Regression model to distinguish B and G\n",
      "Train Logistic Regression model to distinguish B and H\n",
      "Train Logistic Regression model to distinguish B and I\n",
      "Train Logistic Regression model to distinguish B and W\n",
      "Train Logistic Regression model to distinguish B and X\n",
      "Train Logistic Regression model to distinguish B and Y\n",
      "Train Logistic Regression model to distinguish C and D\n",
      "Train Logistic Regression model to distinguish C and E\n",
      "Train Logistic Regression model to distinguish C and F\n",
      "Train Logistic Regression model to distinguish C and G\n",
      "Train Logistic Regression model to distinguish C and H\n",
      "Train Logistic Regression model to distinguish C and I\n",
      "Train Logistic Regression model to distinguish C and W\n",
      "Train Logistic Regression model to distinguish C and X\n",
      "Train Logistic Regression model to distinguish C and Y\n",
      "Train Logistic Regression model to distinguish D and E\n",
      "Train Logistic Regression model to distinguish D and F\n",
      "Train Logistic Regression model to distinguish D and G\n",
      "Train Logistic Regression model to distinguish D and H\n",
      "Train Logistic Regression model to distinguish D and I\n",
      "Train Logistic Regression model to distinguish D and W\n",
      "Train Logistic Regression model to distinguish D and X\n",
      "Train Logistic Regression model to distinguish D and Y\n",
      "Train Logistic Regression model to distinguish E and F\n",
      "Train Logistic Regression model to distinguish E and G\n",
      "Train Logistic Regression model to distinguish E and H\n",
      "Train Logistic Regression model to distinguish E and I\n",
      "Train Logistic Regression model to distinguish E and W\n",
      "Train Logistic Regression model to distinguish E and X\n",
      "Train Logistic Regression model to distinguish E and Y\n",
      "Train Logistic Regression model to distinguish F and G\n",
      "Train Logistic Regression model to distinguish F and H\n",
      "Train Logistic Regression model to distinguish F and I\n",
      "Train Logistic Regression model to distinguish F and W\n",
      "Train Logistic Regression model to distinguish F and X\n",
      "Train Logistic Regression model to distinguish F and Y\n",
      "Train Logistic Regression model to distinguish G and H\n",
      "Train Logistic Regression model to distinguish G and I\n",
      "Train Logistic Regression model to distinguish G and W\n",
      "Train Logistic Regression model to distinguish G and X\n",
      "Train Logistic Regression model to distinguish G and Y\n",
      "Train Logistic Regression model to distinguish H and I\n",
      "Train Logistic Regression model to distinguish H and W\n",
      "Train Logistic Regression model to distinguish H and X\n",
      "Train Logistic Regression model to distinguish H and Y\n",
      "Train Logistic Regression model to distinguish I and W\n",
      "Train Logistic Regression model to distinguish I and X\n",
      "Train Logistic Regression model to distinguish I and Y\n",
      "Train Logistic Regression model to distinguish W and X\n",
      "Train Logistic Regression model to distinguish W and Y\n",
      "Train Logistic Regression model to distinguish X and Y\n"
     ]
    }
   ],
   "source": [
    "models, labels, indexes = trainOvO(train_norm, target_train, labels)"
   ]
  },
  {
   "cell_type": "markdown",
   "metadata": {},
   "source": [
    "### Question 3.4: Predict and evalutate the results of your model"
   ]
  },
  {
   "cell_type": "code",
   "execution_count": 125,
   "metadata": {},
   "outputs": [
    {
     "name": "stdout",
     "output_type": "stream",
     "text": [
      "Working on Model 0\n",
      "Working on Model 1\n",
      "Working on Model 2\n",
      "Working on Model 3\n",
      "Working on Model 4\n",
      "Working on Model 5\n",
      "Working on Model 6\n",
      "Working on Model 7\n",
      "Working on Model 8\n",
      "Working on Model 9\n",
      "Working on Model 10\n",
      "Working on Model 11\n",
      "Working on Model 12\n",
      "Working on Model 13\n",
      "Working on Model 14\n",
      "Working on Model 15\n",
      "Working on Model 16\n",
      "Working on Model 17\n",
      "Working on Model 18\n",
      "Working on Model 19\n",
      "Working on Model 20\n",
      "Working on Model 21\n",
      "Working on Model 22\n",
      "Working on Model 23\n",
      "Working on Model 24\n",
      "Working on Model 25\n",
      "Working on Model 26\n",
      "Working on Model 27\n",
      "Working on Model 28\n",
      "Working on Model 29\n",
      "Working on Model 30\n",
      "Working on Model 31\n",
      "Working on Model 32\n",
      "Working on Model 33\n",
      "Working on Model 34\n",
      "Working on Model 35\n",
      "Working on Model 36\n",
      "Working on Model 37\n",
      "Working on Model 38\n",
      "Working on Model 39\n",
      "Working on Model 40\n",
      "Working on Model 41\n",
      "Working on Model 42\n",
      "Working on Model 43\n",
      "Working on Model 44\n",
      "Working on Model 45\n",
      "Working on Model 46\n",
      "Working on Model 47\n",
      "Working on Model 48\n",
      "Working on Model 49\n",
      "Working on Model 50\n",
      "Working on Model 51\n",
      "Working on Model 52\n",
      "Working on Model 53\n",
      "Working on Model 54\n",
      "Working on Model 55\n",
      "Working on Model 56\n",
      "Working on Model 57\n",
      "Working on Model 58\n",
      "Working on Model 59\n",
      "Working on Model 60\n",
      "Working on Model 61\n",
      "Working on Model 62\n",
      "Working on Model 63\n",
      "Working on Model 64\n",
      "Working on Model 65\n"
     ]
    }
   ],
   "source": [
    "te_z_ovo, model_num = predictOvO(models, labels, test_norm)"
   ]
  },
  {
   "cell_type": "code",
   "execution_count": null,
   "metadata": {},
   "outputs": [],
   "source": [
    "\n",
    "ovo_accuracy = #to do\n",
    "ovo_confuction_matrix = #to do\n",
    "\n",
    "\n",
    "print(\"Accuracy of OvO classifier is {}.\".format(ovo_accuracy))\n",
    "print(\"Confusion matrix of OvO classifier: \\n {}\".format(ovo_confuction_matrix))"
   ]
  },
  {
   "cell_type": "markdown",
   "metadata": {},
   "source": [
    "### Question 4.1: [LogisticRegression](https://scikit-learn.org/stable/modules/generated/sklearn.linear_model.LogisticRegression.html) within sklearn supports two approaches for solving multi-class problems: 'ovr', 'multinomial'. Try out both approaches, and evaluate compare the performance agains what you developed in questions 2 and 3."
   ]
  },
  {
   "cell_type": "code",
   "execution_count": null,
   "metadata": {},
   "outputs": [],
   "source": [
    "clf = #to do\n",
    "y_ovr = #predict (to do)\n",
    "\n",
    "ovr_accuracy = #to do\n",
    "ovr_confuction_matrix = #to do\n",
    "\n",
    "\n",
    "print(\"Accuracy of OvR classifier is {}.\".format(ovr_accuracy))\n",
    "print(\"Confusion matrix of OvR classifier: \\n {}\".format(ovr_confuction_matrix))"
   ]
  },
  {
   "cell_type": "code",
   "execution_count": null,
   "metadata": {},
   "outputs": [],
   "source": [
    "#class = multinomial\n",
    "clf = #to do\n",
    "y_multinomial = #to do\n",
    "\n",
    "multinomial_accuracy = #to do\n",
    "multinomial_confuction_matrix = #to do\n",
    "\n",
    "\n",
    "print(\"Accuracy of OvO classifier is {}.\".format(multinomial_accuracy))\n",
    "print(\"Confusion matrix of OvO classifier: \\n {}\".format(multinomial_confuction_matrix))"
   ]
  },
  {
   "cell_type": "markdown",
   "metadata": {},
   "source": [
    "### Question 4: Create a new text cell in your Notebook: Complete a 50-100 word summary (or short description of your thinking in applying this week's learning to the solution) of your experience in this assignment. Include: What was your incoming experience with this model, if any? what steps you took, what obstacles you encountered. how you link this exercise to real-world, machine learning problem-solving. (What steps were missing? What else do you need to learn?) This summary allows your instructor to know how you are doing and allot points for your effort in thinking and planning, and making connections to real-world work."
   ]
  },
  {
   "cell_type": "code",
   "execution_count": null,
   "metadata": {},
   "outputs": [],
   "source": []
  }
 ],
 "metadata": {
  "kernelspec": {
   "display_name": "Python 3",
   "language": "python",
   "name": "python3"
  },
  "language_info": {
   "codemirror_mode": {
    "name": "ipython",
    "version": 3
   },
   "file_extension": ".py",
   "mimetype": "text/x-python",
   "name": "python",
   "nbconvert_exporter": "python",
   "pygments_lexer": "ipython3",
   "version": "3.7.3"
  }
 },
 "nbformat": 4,
 "nbformat_minor": 2
}
