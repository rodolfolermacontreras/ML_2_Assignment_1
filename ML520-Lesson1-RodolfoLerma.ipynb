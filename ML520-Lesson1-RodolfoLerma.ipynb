{
 "cells": [
  {
   "cell_type": "markdown",
   "metadata": {},
   "source": [
    "# Intro to Advanced ML\n",
    "\n",
    "## Student: Rodolfo Lerma"
   ]
  },
  {
   "cell_type": "markdown",
   "metadata": {},
   "source": [
    "## Multiclass Classification\n",
    "\n",
    "While binary classifiers are used to distinguish between two classes (e.g. detect if a transaction is a fraudulent one, classify an email into either spam or non-spam and etc.), multiclass classifiers distinguish between more than two classes. \n",
    "\n",
    "There are various ways that we can use to perform multiclass classification by leveraging any binary classifiers. In this exercise, you will implement two such strategies for multiclass classification: _One-versus-all_ strategy and _One-versus-one_ strategy.\n",
    "\n",
    "- **One-versus-all (OvA)**: In this strategy, we train a single binary classifier per class, with the samples of that class as positive samples and all other samples as negatives. During inference, we get the prediction from each classifier and select the class with the highest score. This strategy is also called the one-versus-the-rest strtegey. \n",
    "\n",
    "- **One-versus-one (OvO)**: In this strategy, we train a binary classifier for every pair of classes. If there are N classes in the problem, you need to train N * (N-1) / 2 classifiers. During inference, we have to run through all N * (N-1) / 2 classifiers and ses which class wins the most votes. The main advantage of OvO strategy is that each binary classifier only needs to be train on the part of the training dataset for the two classes that it needs to separate. "
   ]
  },
  {
   "cell_type": "code",
   "execution_count": null,
   "metadata": {},
   "outputs": [],
   "source": [
    "# import packages\n",
    "%matplotlib inline\n",
    "import numpy as np\n",
    "import matplotlib.pyplot as plt\n",
    "import pandas as pd\n",
    "from sklearn import datasets\n",
    "from sklearn.linear_model import LogisticRegression\n",
    "\n",
    "# make this notebook's output stable across runs\n",
    "np.random.seed(0)"
   ]
  },
  {
   "cell_type": "markdown",
   "metadata": {},
   "source": [
    "## Avila Dataset\n",
    "\n",
    "In this lab assignment, we use the [Avila](https://archive.ics.uci.edu/ml/datasets/Avila) data set has been extracted from 800 images of the the \"Avila Bible\", a giant Latin copy of the whole Bible produced during the XII century between Italy and Spain.  \n",
    "The palaeographic analysis of the  manuscript has  individuated the presence of 12 copyists. The pages written by each copyist are not equally numerous. \n",
    "Each pattern contains 10 features and corresponds to a group of 4 consecutive rows.\n",
    "\n",
    "The prediction task consists in associating each pattern to one of the 12 copyists (labeled as: A, B, C, D, E, F, G, H, I, W, X, Y).\n",
    "The data have has been normalized, by using the Z-normalization method, and divided in two data sets: a training set containing 10430 samples, and a test set  containing the 10437 samples.\n"
   ]
  },
  {
   "cell_type": "code",
   "execution_count": null,
   "metadata": {},
   "outputs": [],
   "source": [
    "# Load train and test data from CSV files.\n",
    "train = pd.read_csv(\"avila-tr.txt\", header=None)\n",
    "test = pd.read_csv(\"avila-ts.txt\", header=None)\n",
    "\n",
    "x_train = train.iloc[:,:-1]\n",
    "y_train = train.iloc[:,-1]\n",
    "\n",
    "x_test = test.iloc[:,:-1]\n",
    "y_test = test.iloc[:,-1]"
   ]
  },
  {
   "cell_type": "code",
   "execution_count": null,
   "metadata": {},
   "outputs": [],
   "source": [
    "# Output the number of images in each class in the train and test datasets.\n"
   ]
  },
  {
   "cell_type": "markdown",
   "metadata": {},
   "source": [
    "Question 1.1: Check for missing Data"
   ]
  },
  {
   "cell_type": "code",
   "execution_count": null,
   "metadata": {},
   "outputs": [],
   "source": []
  },
  {
   "cell_type": "code",
   "execution_count": null,
   "metadata": {},
   "outputs": [],
   "source": []
  },
  {
   "cell_type": "markdown",
   "metadata": {},
   "source": [
    "Question 1.2: Apply Z-normalization to data"
   ]
  },
  {
   "cell_type": "code",
   "execution_count": null,
   "metadata": {},
   "outputs": [],
   "source": [
    "from sklearn.preprocessing import StandardScaler\n",
    "scaler = StandardScaler()\n",
    "\n",
    "\n"
   ]
  },
  {
   "cell_type": "markdown",
   "metadata": {},
   "source": [
    "Question 2.1: Write a method to train multiple logistic regression models performing One vs All (OvA) classification. The method allows you to pass in training features, and target. The method returns a list of models and their associated labels. \n",
    "Within the method:\n",
    "- Determine the list of classes\n",
    "- Create a place to store all the models\n",
    "- For each class, train a model with the target variable set to 1 and 0 for all other classes\n",
    "- Return the list of models trained and associated labels."
   ]
  },
  {
   "cell_type": "code",
   "execution_count": null,
   "metadata": {},
   "outputs": [],
   "source": [
    "def trainOvA(x, y):\n",
    "    \"\"\"\n",
    "    TODO: Train the multiclass classifier using OvA strategy. \n",
    "    \"\"\"\n",
    "    labels = sorted(y.unique())\n",
    "    n_labels = len(labels)\n",
    "    print(\"number of classes is {}\".format(n_labels))\n",
    "\n",
    "    #Create model\n",
    "    \n",
    "        label = labels[i]\n",
    "        print(\"Train Logistic Regression model for class {}\".format(label))\n",
    "\n",
    "        # update the label according to OvA strategy\n",
    "\n",
    "        \n",
    "        # Train model\n",
    "        models[i] = \n",
    "        model_labels[i] = \n",
    "    return models, model_labels"
   ]
  },
  {
   "cell_type": "markdown",
   "metadata": {},
   "source": [
    "Question 2.2: Write a method that leverage the multiple models train for OvA, and outputs the majority class."
   ]
  },
  {
   "cell_type": "code",
   "execution_count": null,
   "metadata": {},
   "outputs": [],
   "source": [
    "def predictOvA(models, labels, x):\n",
    "    \"\"\"\n",
    "    TODO: Make predictions on multiclass problems using the OvA strategy. \n",
    "    \"\"\"\n",
    "    if models == None:\n",
    "        sys.exit(\"The model has not been trained yet. Please call train() first. Exiting...\")\n",
    "\n",
    "    #Create prediction\n",
    "\n",
    "\n",
    "    return predictions.idxmax(axis=1).values"
   ]
  },
  {
   "cell_type": "markdown",
   "metadata": {},
   "source": [
    "Question 2.3: Train OvA model on the Avila dataset"
   ]
  },
  {
   "cell_type": "code",
   "execution_count": null,
   "metadata": {},
   "outputs": [],
   "source": [
    "from sklearn.linear_model import LogisticRegression\n"
   ]
  },
  {
   "cell_type": "markdown",
   "metadata": {},
   "source": [
    "Question 2.4: Predict and evalutate the results of your model"
   ]
  },
  {
   "cell_type": "code",
   "execution_count": null,
   "metadata": {},
   "outputs": [],
   "source": [
    "te_z_ova = predictOvA(#to do)"
   ]
  },
  {
   "cell_type": "code",
   "execution_count": null,
   "metadata": {},
   "outputs": [],
   "source": [
    "from sklearn.metrics import accuracy_score\n",
    "from sklearn.metrics import confusion_matrix\n",
    "\n",
    "ova_accuracy = #to do\n",
    "ova_confuction_matrix = #to do\n",
    "\n",
    "print(\"Accuracy of OvA classifier is {}.\".format(ova_accuracy))\n",
    "print(\"Confusion matrix of OvA classifier: \\n {}\".format(ova_confuction_matrix))"
   ]
  },
  {
   "cell_type": "markdown",
   "metadata": {},
   "source": [
    "---"
   ]
  },
  {
   "cell_type": "markdown",
   "metadata": {},
   "source": [
    "Question 3.1: Develop a method that trains a list of models based on the OvO stragety for multiclass classification using logistic regression. "
   ]
  },
  {
   "cell_type": "code",
   "execution_count": null,
   "metadata": {},
   "outputs": [],
   "source": [
    "def trainOvO(x, y):\n",
    "    \"\"\"\n",
    "    TODO: Train the multiclass classifier using OvO strategy. \n",
    "    \"\"\"\n",
    "    labels = sorted(y.unique())\n",
    "    n_labels = len(labels)\n",
    "    n_models = int(len(labels) * (len(labels) - 1) / 2)\n",
    "    print(\"number of classes is {}\".format(n_labels))\n",
    "\n",
    "    models = #to do\n",
    "    model_labels = #to do\n",
    "    model_idx = 0\n",
    "    for i in range(n_labels):\n",
    "        for j in range(i+1, n_labels):\n",
    "            label_i = labels[i]\n",
    "            label_j = labels[j]\n",
    "            print(\"Train Logistic Regression model to distinguish {} and {}\".format(label_i, label_j))\n",
    "\n",
    "            # update the label according to OvA strategy\n",
    "            train_y = y[#to do]\n",
    "            train_x = x[#to do]\n",
    "\n",
    "            # construct the logistic regression instance\n",
    "            lr = LogisticRegression(solver = 'liblinear')\n",
    "           #don't forget to fit\n",
    "        \n",
    "    return models, model_labels"
   ]
  },
  {
   "cell_type": "markdown",
   "metadata": {},
   "source": [
    "Question 3.2: Write a method that leverage the multiple models train for OvO, and outputs the majority class."
   ]
  },
  {
   "cell_type": "code",
   "execution_count": null,
   "metadata": {},
   "outputs": [],
   "source": [
    "def predictOvO(models, labels, x):\n",
    "    \"\"\"\n",
    "    TODO: Make predictions on multiclass problems using the OvO strategy. \n",
    "    \"\"\"\n",
    "    if models == None:\n",
    "        sys.exit(\"The model has not been trained yet. Please call train() first. Exiting...\")\n",
    "\n",
    "    n_models = len(models)\n",
    "    predictions = #predict\n",
    "    \n",
    "\n",
    "    return predictions.mode(axis=1).iloc[:, 0].values"
   ]
  },
  {
   "cell_type": "markdown",
   "metadata": {},
   "source": [
    "Question 3.3: Train OvO model on the Avila dataset"
   ]
  },
  {
   "cell_type": "code",
   "execution_count": null,
   "metadata": {},
   "outputs": [],
   "source": [
    "models, labels = trainOvO(#to do)"
   ]
  },
  {
   "cell_type": "markdown",
   "metadata": {},
   "source": [
    "Question 3.4: Predict and evalutate the results of your model"
   ]
  },
  {
   "cell_type": "code",
   "execution_count": null,
   "metadata": {},
   "outputs": [],
   "source": [
    "te_z_ovo = predictOvO(#to do)"
   ]
  },
  {
   "cell_type": "code",
   "execution_count": null,
   "metadata": {},
   "outputs": [],
   "source": [
    "\n",
    "ovo_accuracy = #to do\n",
    "ovo_confuction_matrix = #to do\n",
    "\n",
    "\n",
    "print(\"Accuracy of OvO classifier is {}.\".format(ovo_accuracy))\n",
    "print(\"Confusion matrix of OvO classifier: \\n {}\".format(ovo_confuction_matrix))"
   ]
  },
  {
   "cell_type": "markdown",
   "metadata": {},
   "source": [
    "Question 4.1: [LogisticRegression](https://scikit-learn.org/stable/modules/generated/sklearn.linear_model.LogisticRegression.html) within sklearn supports two approaches for solving multi-class problems: 'ovr', 'multinomial'. Try out both approaches, and evaluate compare the performance agains what you developed in questions 2 and 3."
   ]
  },
  {
   "cell_type": "code",
   "execution_count": null,
   "metadata": {},
   "outputs": [],
   "source": [
    "clf = #to do\n",
    "y_ovr = #predict (to do)\n",
    "\n",
    "ovr_accuracy = #to do\n",
    "ovr_confuction_matrix = #to do\n",
    "\n",
    "\n",
    "print(\"Accuracy of OvO classifier is {}.\".format(ovr_accuracy))\n",
    "print(\"Confusion matrix of OvO classifier: \\n {}\".format(ovr_confuction_matrix))"
   ]
  },
  {
   "cell_type": "code",
   "execution_count": null,
   "metadata": {},
   "outputs": [],
   "source": [
    "#class = multinomial\n",
    "clf = #to do\n",
    "y_multinomial = #to do\n",
    "\n",
    "multinomial_accuracy = #to do\n",
    "multinomial_confuction_matrix = #to do\n",
    "\n",
    "\n",
    "print(\"Accuracy of OvO classifier is {}.\".format(multinomial_accuracy))\n",
    "print(\"Confusion matrix of OvO classifier: \\n {}\".format(multinomial_confuction_matrix))"
   ]
  },
  {
   "cell_type": "markdown",
   "metadata": {},
   "source": [
    "Question 4: Create a new text cell in your Notebook: Complete a 50-100 word summary (or short description of your thinking in applying this week's learning to the solution) of your experience in this assignment. Include: What was your incoming experience with this model, if any? what steps you took, what obstacles you encountered. how you link this exercise to real-world, machine learning problem-solving. (What steps were missing? What else do you need to learn?) This summary allows your instructor to know how you are doing and allot points for your effort in thinking and planning, and making connections to real-world work."
   ]
  },
  {
   "cell_type": "code",
   "execution_count": null,
   "metadata": {},
   "outputs": [],
   "source": []
  }
 ],
 "metadata": {
  "kernelspec": {
   "display_name": "Python 3",
   "language": "python",
   "name": "python3"
  },
  "language_info": {
   "codemirror_mode": {
    "name": "ipython",
    "version": 3
   },
   "file_extension": ".py",
   "mimetype": "text/x-python",
   "name": "python",
   "nbconvert_exporter": "python",
   "pygments_lexer": "ipython3",
   "version": "3.7.3"
  }
 },
 "nbformat": 4,
 "nbformat_minor": 2
}
