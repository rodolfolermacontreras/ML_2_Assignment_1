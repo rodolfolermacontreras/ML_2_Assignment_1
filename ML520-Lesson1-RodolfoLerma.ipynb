{
 "cells": [
  {
   "cell_type": "markdown",
   "metadata": {},
   "source": [
    "# Intro to Advanced ML\n",
    "\n",
    "## Student: Rodolfo Lerma"
   ]
  },
  {
   "cell_type": "markdown",
   "metadata": {},
   "source": [
    "## Multiclass Classification\n",
    "\n",
    "While binary classifiers are used to distinguish between two classes (e.g. detect if a transaction is a fraudulent one, classify an email into either spam or non-spam and etc.), multiclass classifiers distinguish between more than two classes. \n",
    "\n",
    "There are various ways that we can use to perform multiclass classification by leveraging any binary classifiers. In this exercise, you will implement two such strategies for multiclass classification: _One-versus-all_ strategy and _One-versus-one_ strategy.\n",
    "\n",
    "- **One-versus-all (OvA)**: In this strategy, we train a single binary classifier per class, with the samples of that class as positive samples and all other samples as negatives. During inference, we get the prediction from each classifier and select the class with the highest score. This strategy is also called the one-versus-the-rest strtegey. \n",
    "\n",
    "- **One-versus-one (OvO)**: In this strategy, we train a binary classifier for every pair of classes. If there are N classes in the problem, you need to train N * (N-1) / 2 classifiers. During inference, we have to run through all N * (N-1) / 2 classifiers and ses which class wins the most votes. The main advantage of OvO strategy is that each binary classifier only needs to be train on the part of the training dataset for the two classes that it needs to separate. "
   ]
  },
  {
   "cell_type": "code",
   "execution_count": 1,
   "metadata": {},
   "outputs": [],
   "source": [
    "# import packages\n",
    "%matplotlib inline\n",
    "import numpy as np\n",
    "import matplotlib.pyplot as plt\n",
    "import pandas as pd\n",
    "from sklearn import datasets\n",
    "from sklearn.linear_model import LogisticRegression\n",
    "\n",
    "# make this notebook's output stable across runs\n",
    "np.random.seed(0)"
   ]
  },
  {
   "cell_type": "markdown",
   "metadata": {},
   "source": [
    "## Avila Dataset\n",
    "\n",
    "In this lab assignment, we use the [Avila](https://archive.ics.uci.edu/ml/datasets/Avila) data set has been extracted from 800 images of the the \"Avila Bible\", a giant Latin copy of the whole Bible produced during the XII century between Italy and Spain.  \n",
    "The palaeographic analysis of the  manuscript has  individuated the presence of 12 copyists. The pages written by each copyist are not equally numerous. \n",
    "Each pattern contains 10 features and corresponds to a group of 4 consecutive rows.\n",
    "\n",
    "The prediction task consists in associating each pattern to one of the 12 copyists (labeled as: A, B, C, D, E, F, G, H, I, W, X, Y).\n",
    "The data have has been normalized, by using the Z-normalization method, and divided in two data sets: a training set containing 10430 samples, and a test set  containing the 10437 samples.\n"
   ]
  },
  {
   "cell_type": "code",
   "execution_count": 2,
   "metadata": {},
   "outputs": [],
   "source": [
    "# Load train and test data from CSV files.\n",
    "train = pd.read_csv(\"avila-tr.txt\", header=None)\n",
    "test = pd.read_csv(\"avila-ts.txt\", header=None)\n",
    "\n",
    "x_train = train.iloc[:,:-1]\n",
    "y_train = train.iloc[:,-1]\n",
    "\n",
    "x_test = test.iloc[:,:-1]\n",
    "y_test = test.iloc[:,-1]"
   ]
  },
  {
   "cell_type": "markdown",
   "metadata": {},
   "source": [
    "### Output the number of images in each class in the train and test datasets."
   ]
  },
  {
   "cell_type": "code",
   "execution_count": null,
   "metadata": {},
   "outputs": [],
   "source": [
    "train.head()"
   ]
  },
  {
   "cell_type": "code",
   "execution_count": 6,
   "metadata": {},
   "outputs": [
    {
     "data": {
      "text/plain": [
       "(10430, 11)"
      ]
     },
     "execution_count": 6,
     "metadata": {},
     "output_type": "execute_result"
    }
   ],
   "source": [
    "train.shape"
   ]
  },
  {
   "cell_type": "code",
   "execution_count": 13,
   "metadata": {},
   "outputs": [
    {
     "data": {
      "text/plain": [
       "A    4286\n",
       "F    1961\n",
       "E    1095\n",
       "I     831\n",
       "X     522\n",
       "H     519\n",
       "G     446\n",
       "D     352\n",
       "Y     266\n",
       "C     103\n",
       "W      44\n",
       "B       5\n",
       "Name: 10, dtype: int64"
      ]
     },
     "execution_count": 13,
     "metadata": {},
     "output_type": "execute_result"
    }
   ],
   "source": [
    "train[10].value_counts()"
   ]
  },
  {
   "cell_type": "code",
   "execution_count": 5,
   "metadata": {},
   "outputs": [
    {
     "data": {
      "text/html": [
       "<div>\n",
       "<style scoped>\n",
       "    .dataframe tbody tr th:only-of-type {\n",
       "        vertical-align: middle;\n",
       "    }\n",
       "\n",
       "    .dataframe tbody tr th {\n",
       "        vertical-align: top;\n",
       "    }\n",
       "\n",
       "    .dataframe thead th {\n",
       "        text-align: right;\n",
       "    }\n",
       "</style>\n",
       "<table border=\"1\" class=\"dataframe\">\n",
       "  <thead>\n",
       "    <tr style=\"text-align: right;\">\n",
       "      <th></th>\n",
       "      <th>0</th>\n",
       "      <th>1</th>\n",
       "      <th>2</th>\n",
       "      <th>3</th>\n",
       "      <th>4</th>\n",
       "      <th>5</th>\n",
       "      <th>6</th>\n",
       "      <th>7</th>\n",
       "      <th>8</th>\n",
       "      <th>9</th>\n",
       "      <th>10</th>\n",
       "    </tr>\n",
       "  </thead>\n",
       "  <tbody>\n",
       "    <tr>\n",
       "      <th>0</th>\n",
       "      <td>-3.498799</td>\n",
       "      <td>0.250492</td>\n",
       "      <td>0.232070</td>\n",
       "      <td>1.224178</td>\n",
       "      <td>-4.922215</td>\n",
       "      <td>1.145386</td>\n",
       "      <td>0.182426</td>\n",
       "      <td>-0.165983</td>\n",
       "      <td>-0.123005</td>\n",
       "      <td>1.087144</td>\n",
       "      <td>W</td>\n",
       "    </tr>\n",
       "    <tr>\n",
       "      <th>1</th>\n",
       "      <td>0.204355</td>\n",
       "      <td>-0.354049</td>\n",
       "      <td>0.320980</td>\n",
       "      <td>0.410166</td>\n",
       "      <td>-0.989576</td>\n",
       "      <td>-2.218127</td>\n",
       "      <td>0.220177</td>\n",
       "      <td>0.181844</td>\n",
       "      <td>2.090879</td>\n",
       "      <td>-2.009758</td>\n",
       "      <td>A</td>\n",
       "    </tr>\n",
       "    <tr>\n",
       "      <th>2</th>\n",
       "      <td>0.759828</td>\n",
       "      <td>-1.304042</td>\n",
       "      <td>-0.023991</td>\n",
       "      <td>-0.973663</td>\n",
       "      <td>-0.006417</td>\n",
       "      <td>-0.349509</td>\n",
       "      <td>-0.421580</td>\n",
       "      <td>-0.450127</td>\n",
       "      <td>0.469443</td>\n",
       "      <td>0.060952</td>\n",
       "      <td>I</td>\n",
       "    </tr>\n",
       "    <tr>\n",
       "      <th>3</th>\n",
       "      <td>-0.005490</td>\n",
       "      <td>0.360409</td>\n",
       "      <td>0.281860</td>\n",
       "      <td>-0.213479</td>\n",
       "      <td>-1.168333</td>\n",
       "      <td>-1.013906</td>\n",
       "      <td>-0.346080</td>\n",
       "      <td>1.176165</td>\n",
       "      <td>0.968347</td>\n",
       "      <td>-0.627999</td>\n",
       "      <td>E</td>\n",
       "    </tr>\n",
       "    <tr>\n",
       "      <th>4</th>\n",
       "      <td>0.080916</td>\n",
       "      <td>0.101320</td>\n",
       "      <td>0.104040</td>\n",
       "      <td>0.140490</td>\n",
       "      <td>0.261718</td>\n",
       "      <td>0.480988</td>\n",
       "      <td>0.710932</td>\n",
       "      <td>-0.253430</td>\n",
       "      <td>-0.497183</td>\n",
       "      <td>0.155681</td>\n",
       "      <td>A</td>\n",
       "    </tr>\n",
       "  </tbody>\n",
       "</table>\n",
       "</div>"
      ],
      "text/plain": [
       "         0         1         2         3         4         5         6   \\\n",
       "0 -3.498799  0.250492  0.232070  1.224178 -4.922215  1.145386  0.182426   \n",
       "1  0.204355 -0.354049  0.320980  0.410166 -0.989576 -2.218127  0.220177   \n",
       "2  0.759828 -1.304042 -0.023991 -0.973663 -0.006417 -0.349509 -0.421580   \n",
       "3 -0.005490  0.360409  0.281860 -0.213479 -1.168333 -1.013906 -0.346080   \n",
       "4  0.080916  0.101320  0.104040  0.140490  0.261718  0.480988  0.710932   \n",
       "\n",
       "         7         8         9  10  \n",
       "0 -0.165983 -0.123005  1.087144  W  \n",
       "1  0.181844  2.090879 -2.009758  A  \n",
       "2 -0.450127  0.469443  0.060952  I  \n",
       "3  1.176165  0.968347 -0.627999  E  \n",
       "4 -0.253430 -0.497183  0.155681  A  "
      ]
     },
     "execution_count": 5,
     "metadata": {},
     "output_type": "execute_result"
    }
   ],
   "source": [
    "test.head()"
   ]
  },
  {
   "cell_type": "code",
   "execution_count": 7,
   "metadata": {},
   "outputs": [
    {
     "data": {
      "text/plain": [
       "(10437, 11)"
      ]
     },
     "execution_count": 7,
     "metadata": {},
     "output_type": "execute_result"
    }
   ],
   "source": [
    "test.shape"
   ]
  },
  {
   "cell_type": "code",
   "execution_count": 14,
   "metadata": {},
   "outputs": [
    {
     "data": {
      "text/plain": [
       "A    4286\n",
       "F    1962\n",
       "E    1095\n",
       "I     832\n",
       "X     522\n",
       "H     520\n",
       "G     447\n",
       "D     353\n",
       "Y     267\n",
       "C     103\n",
       "W      45\n",
       "B       5\n",
       "Name: 10, dtype: int64"
      ]
     },
     "execution_count": 14,
     "metadata": {},
     "output_type": "execute_result"
    }
   ],
   "source": [
    "test[10].value_counts()"
   ]
  },
  {
   "cell_type": "markdown",
   "metadata": {},
   "source": [
    "Question 1.1: Check for missing Data"
   ]
  },
  {
   "cell_type": "code",
   "execution_count": 9,
   "metadata": {},
   "outputs": [
    {
     "data": {
      "text/plain": [
       "0     0\n",
       "1     0\n",
       "2     0\n",
       "3     0\n",
       "4     0\n",
       "5     0\n",
       "6     0\n",
       "7     0\n",
       "8     0\n",
       "9     0\n",
       "10    0\n",
       "dtype: int64"
      ]
     },
     "execution_count": 9,
     "metadata": {},
     "output_type": "execute_result"
    }
   ],
   "source": [
    "train.isnull().sum()"
   ]
  },
  {
   "cell_type": "markdown",
   "metadata": {},
   "source": [
    "No missing data on the training dataset"
   ]
  },
  {
   "cell_type": "code",
   "execution_count": 10,
   "metadata": {},
   "outputs": [
    {
     "data": {
      "text/plain": [
       "0     0\n",
       "1     0\n",
       "2     0\n",
       "3     0\n",
       "4     0\n",
       "5     0\n",
       "6     0\n",
       "7     0\n",
       "8     0\n",
       "9     0\n",
       "10    0\n",
       "dtype: int64"
      ]
     },
     "execution_count": 10,
     "metadata": {},
     "output_type": "execute_result"
    }
   ],
   "source": [
    "test.isnull().sum()"
   ]
  },
  {
   "cell_type": "markdown",
   "metadata": {},
   "source": [
    "No missing data on the test dataset as well."
   ]
  },
  {
   "cell_type": "markdown",
   "metadata": {},
   "source": [
    "## Data Exploration"
   ]
  },
  {
   "cell_type": "code",
   "execution_count": 36,
   "metadata": {},
   "outputs": [
    {
     "data": {
      "image/png": "[encoded data removed]",
      "text/plain": [
       "<Figure size 864x648 with 2 Axes>"
      ]
     },
     "metadata": {
      "needs_background": "light"
     },
     "output_type": "display_data"
    }
   ],
   "source": [
    "import seaborn as sns\n",
    "\n",
    "corr = train.corr()\n",
    "hm_fig, hm_ax = plt.subplots(figsize=(12,9))\n",
    "mask = np.logical_not(np.tril(np.ones_like(corr, dtype=np.bool)))\n",
    "sns.heatmap(\n",
    "    corr,\n",
    "    annot=True,\n",
    "    mask=mask,\n",
    "    fmt='.3f',\n",
    "    ax=hm_ax,\n",
    "    cmap=sns.light_palette('#9c462f', n_colors=300),\n",
    ")\n",
    "hm_ax.set_xticklabels(hm_ax.get_xticklabels(), rotation=45)\n",
    "hm_ax.set_title('Avila dataset correlation matrix')\n",
    "hm_ax.patch.set_alpha(0);"
   ]
  },
  {
   "cell_type": "markdown",
   "metadata": {},
   "source": [
    "### Question 1.2: Apply Z-normalization to data"
   ]
  },
  {
   "cell_type": "code",
   "execution_count": 23,
   "metadata": {},
   "outputs": [],
   "source": [
    "#Columns to list\n",
    "columns_train = train.columns.to_list()\n",
    "columns_test = test.columns.to_list()\n",
    "\n",
    "#Removing the target variable\n",
    "columns_train.remove(10)\n",
    "columns_test.remove(10)"
   ]
  },
  {
   "cell_type": "code",
   "execution_count": 21,
   "metadata": {},
   "outputs": [],
   "source": [
    "def normalization_format(numeric_columns, df):\n",
    "    from sklearn.preprocessing import StandardScaler\n",
    "    scaler = StandardScaler()\n",
    "    scaler.fit(df[numeric_columns])\n",
    "    data_scaled = scaler.transform(df[numeric_columns])\n",
    "    df1 = pd.DataFrame(data_scaled, columns = numeric_columns)\n",
    "    return df1"
   ]
  },
  {
   "cell_type": "code",
   "execution_count": 24,
   "metadata": {},
   "outputs": [],
   "source": [
    "#Normalization of train dataset\n",
    "train_norm = normalization_format(columns_train, train)\n",
    "\n",
    "#Normalization of test dataset\n",
    "test_norm = normalization_format(columns_test, test)"
   ]
  },
  {
   "cell_type": "markdown",
   "metadata": {},
   "source": [
    "### Question 2.1: Write a method to train multiple logistic regression models performing One vs All (OvA) classification. The method allows you to pass in training features, and target. The method returns a list of models and their associated labels. \n",
    "\n",
    "Within the method:\n",
    "- Determine the list of classes\n",
    "- Create a place to store all the models\n",
    "- For each class, train a model with the target variable set to 1 and 0 for all other classes\n",
    "- Return the list of models trained and associated labels."
   ]
  },
  {
   "cell_type": "code",
   "execution_count": 118,
   "metadata": {},
   "outputs": [],
   "source": [
    "##EXAMPLE\n",
    "\n",
    "# yei = yup[10].astype('category')\n",
    "# labels = sorted(yei.unique())\n",
    "# n_labels = len(labels)\n",
    "# model_labels = [None] * n_labels\n",
    "\n",
    "# for i in range(n_labels):\n",
    "#     label = labels[i]\n",
    "#     print(\"Train Logistic Regression model for class {}\".format(label))\n",
    "#     # Update the label according to OvA strategy\n",
    "#     # Transforming the label/target column to a One Vs All for each of the categories\n",
    "#     binary_labels = []\n",
    "#     for j in range(len(yup[10])):\n",
    "#         if yup[10][j] == label:\n",
    "#             z = 1\n",
    "#         else:\n",
    "#             z = 0\n",
    "#         binary_labels.append(z)\n",
    "#     model_labels[i] = binary_labels"
   ]
  },
  {
   "cell_type": "code",
   "execution_count": 113,
   "metadata": {},
   "outputs": [],
   "source": [
    "def trainOvA(x, y):\n",
    "    \"\"\"\n",
    "    TODO: Train the multiclass classifier using OvA strategy. \n",
    "    \"\"\"\n",
    "    from sklearn import linear_model\n",
    "    \n",
    "    labels = y.astype('category')\n",
    "    labels = sorted(labels.unique())\n",
    "    n_labels = len(labels)\n",
    "    print(\"number of classes is {}\".format(n_labels))\n",
    "\n",
    "    #Create model\n",
    "    models = [None] * n_labels\n",
    "    model_labels = [None] * n_labels\n",
    "    \n",
    "    lr = linear_model.LogisticRegression()     \n",
    "\n",
    "    for i in range(n_labels):\n",
    "        label = labels[i]\n",
    "        print(\"Train Logistic Regression model for class {}\".format(label))\n",
    "        # update the label according to OvA strategy\n",
    "        # Transforming the label/target column to a One Vs All for each of the categories\n",
    "        binary_labels = []\n",
    "        for j in range(len(y)):\n",
    "            if y[j] == label:\n",
    "                z = 1\n",
    "            else:\n",
    "                z = 0\n",
    "            binary_labels.append(z)\n",
    "        \n",
    "        # Train model\n",
    "        models[i] =  lr.fit(x, binary_labels)\n",
    "        model_labels[i] = binary_labels\n",
    "        \n",
    "    return models, model_labels"
   ]
  },
  {
   "cell_type": "markdown",
   "metadata": {},
   "source": [
    "### Question 2.2: Write a method that leverage the multiple models train for OvA, and outputs the majority class."
   ]
  },
  {
   "cell_type": "code",
   "execution_count": null,
   "metadata": {},
   "outputs": [],
   "source": [
    "def predictOvA(models, labels, x):\n",
    "    \"\"\"\n",
    "    TODO: Make predictions on multiclass problems using the OvA strategy. \n",
    "    \"\"\"\n",
    "    if models == None:\n",
    "        sys.exit(\"The model has not been trained yet. Please call train() first. Exiting...\")\n",
    "\n",
    "    #Create prediction\n",
    "\n",
    "\n",
    "    return predictions.idxmax(axis=1).values"
   ]
  },
  {
   "cell_type": "markdown",
   "metadata": {},
   "source": [
    "### Question 2.3: Train OvA model on the Avila dataset"
   ]
  },
  {
   "cell_type": "code",
   "execution_count": 81,
   "metadata": {},
   "outputs": [],
   "source": [
    "target_train = train[10]\n",
    "target_test = test[10]"
   ]
  },
  {
   "cell_type": "code",
   "execution_count": 114,
   "metadata": {},
   "outputs": [
    {
     "name": "stdout",
     "output_type": "stream",
     "text": [
      "number of classes is 12\n",
      "Train Logistic Regression model for class A\n",
      "Train Logistic Regression model for class B\n",
      "Train Logistic Regression model for class C\n",
      "Train Logistic Regression model for class D\n",
      "Train Logistic Regression model for class E\n",
      "Train Logistic Regression model for class F\n",
      "Train Logistic Regression model for class G\n",
      "Train Logistic Regression model for class H\n",
      "Train Logistic Regression model for class I\n",
      "Train Logistic Regression model for class W\n",
      "Train Logistic Regression model for class X\n",
      "Train Logistic Regression model for class Y\n"
     ]
    }
   ],
   "source": [
    "from sklearn.linear_model import LogisticRegression\n",
    "models, model_labels = trainOvA(train_norm, target_train)"
   ]
  },
  {
   "cell_type": "markdown",
   "metadata": {},
   "source": [
    "### Question 2.4: Predict and evalutate the results of your model"
   ]
  },
  {
   "cell_type": "code",
   "execution_count": null,
   "metadata": {},
   "outputs": [],
   "source": [
    "te_z_ova = predictOvA(#to do)"
   ]
  },
  {
   "cell_type": "code",
   "execution_count": null,
   "metadata": {},
   "outputs": [],
   "source": [
    "from sklearn.metrics import accuracy_score\n",
    "from sklearn.metrics import confusion_matrix\n",
    "\n",
    "ova_accuracy = #to do\n",
    "ova_confuction_matrix = #to do\n",
    "\n",
    "print(\"Accuracy of OvA classifier is {}.\".format(ova_accuracy))\n",
    "print(\"Confusion matrix of OvA classifier: \\n {}\".format(ova_confuction_matrix))"
   ]
  },
  {
   "cell_type": "markdown",
   "metadata": {},
   "source": [
    "---"
   ]
  },
  {
   "cell_type": "markdown",
   "metadata": {},
   "source": [
    "### Question 3.1: Develop a method that trains a list of models based on the OvO stragety for multiclass classification using logistic regression. "
   ]
  },
  {
   "cell_type": "code",
   "execution_count": null,
   "metadata": {},
   "outputs": [],
   "source": [
    "def trainOvO(x, y):\n",
    "    \"\"\"\n",
    "    TODO: Train the multiclass classifier using OvO strategy. \n",
    "    \"\"\"\n",
    "    labels = sorted(y.unique())\n",
    "    n_labels = len(labels)\n",
    "    n_models = int(len(labels) * (len(labels) - 1) / 2)\n",
    "    print(\"number of classes is {}\".format(n_labels))\n",
    "\n",
    "    models = #to do\n",
    "    model_labels = #to do\n",
    "    model_idx = 0\n",
    "    for i in range(n_labels):\n",
    "        for j in range(i+1, n_labels):\n",
    "            label_i = labels[i]\n",
    "            label_j = labels[j]\n",
    "            print(\"Train Logistic Regression model to distinguish {} and {}\".format(label_i, label_j))\n",
    "\n",
    "            # update the label according to OvA strategy\n",
    "            train_y = y[#to do]\n",
    "            train_x = x[#to do]\n",
    "\n",
    "            # construct the logistic regression instance\n",
    "            lr = LogisticRegression(solver = 'liblinear')\n",
    "           #don't forget to fit\n",
    "        \n",
    "    return models, model_labels"
   ]
  },
  {
   "cell_type": "markdown",
   "metadata": {},
   "source": [
    "### Question 3.2: Write a method that leverage the multiple models train for OvO, and outputs the majority class."
   ]
  },
  {
   "cell_type": "code",
   "execution_count": null,
   "metadata": {},
   "outputs": [],
   "source": [
    "def predictOvO(models, labels, x):\n",
    "    \"\"\"\n",
    "    TODO: Make predictions on multiclass problems using the OvO strategy. \n",
    "    \"\"\"\n",
    "    if models == None:\n",
    "        sys.exit(\"The model has not been trained yet. Please call train() first. Exiting...\")\n",
    "\n",
    "    n_models = len(models)\n",
    "    predictions = #predict\n",
    "    \n",
    "\n",
    "    return predictions.mode(axis=1).iloc[:, 0].values"
   ]
  },
  {
   "cell_type": "markdown",
   "metadata": {},
   "source": [
    "### Question 3.3: Train OvO model on the Avila dataset"
   ]
  },
  {
   "cell_type": "code",
   "execution_count": null,
   "metadata": {},
   "outputs": [],
   "source": [
    "models, labels = trainOvO(#to do)"
   ]
  },
  {
   "cell_type": "markdown",
   "metadata": {},
   "source": [
    "### Question 3.4: Predict and evalutate the results of your model"
   ]
  },
  {
   "cell_type": "code",
   "execution_count": null,
   "metadata": {},
   "outputs": [],
   "source": [
    "te_z_ovo = predictOvO(#to do)"
   ]
  },
  {
   "cell_type": "code",
   "execution_count": null,
   "metadata": {},
   "outputs": [],
   "source": [
    "\n",
    "ovo_accuracy = #to do\n",
    "ovo_confuction_matrix = #to do\n",
    "\n",
    "\n",
    "print(\"Accuracy of OvO classifier is {}.\".format(ovo_accuracy))\n",
    "print(\"Confusion matrix of OvO classifier: \\n {}\".format(ovo_confuction_matrix))"
   ]
  },
  {
   "cell_type": "markdown",
   "metadata": {},
   "source": [
    "### Question 4.1: [LogisticRegression](https://scikit-learn.org/stable/modules/generated/sklearn.linear_model.LogisticRegression.html) within sklearn supports two approaches for solving multi-class problems: 'ovr', 'multinomial'. Try out both approaches, and evaluate compare the performance agains what you developed in questions 2 and 3."
   ]
  },
  {
   "cell_type": "code",
   "execution_count": null,
   "metadata": {},
   "outputs": [],
   "source": [
    "clf = #to do\n",
    "y_ovr = #predict (to do)\n",
    "\n",
    "ovr_accuracy = #to do\n",
    "ovr_confuction_matrix = #to do\n",
    "\n",
    "\n",
    "print(\"Accuracy of OvR classifier is {}.\".format(ovr_accuracy))\n",
    "print(\"Confusion matrix of OvR classifier: \\n {}\".format(ovr_confuction_matrix))"
   ]
  },
  {
   "cell_type": "code",
   "execution_count": null,
   "metadata": {},
   "outputs": [],
   "source": [
    "#class = multinomial\n",
    "clf = #to do\n",
    "y_multinomial = #to do\n",
    "\n",
    "multinomial_accuracy = #to do\n",
    "multinomial_confuction_matrix = #to do\n",
    "\n",
    "\n",
    "print(\"Accuracy of OvO classifier is {}.\".format(multinomial_accuracy))\n",
    "print(\"Confusion matrix of OvO classifier: \\n {}\".format(multinomial_confuction_matrix))"
   ]
  },
  {
   "cell_type": "markdown",
   "metadata": {},
   "source": [
    "### Question 4: Create a new text cell in your Notebook: Complete a 50-100 word summary (or short description of your thinking in applying this week's learning to the solution) of your experience in this assignment. Include: What was your incoming experience with this model, if any? what steps you took, what obstacles you encountered. how you link this exercise to real-world, machine learning problem-solving. (What steps were missing? What else do you need to learn?) This summary allows your instructor to know how you are doing and allot points for your effort in thinking and planning, and making connections to real-world work."
   ]
  },
  {
   "cell_type": "code",
   "execution_count": null,
   "metadata": {},
   "outputs": [],
   "source": []
  }
 ],
 "metadata": {
  "kernelspec": {
   "display_name": "Python 3",
   "language": "python",
   "name": "python3"
  },
  "language_info": {
   "codemirror_mode": {
    "name": "ipython",
    "version": 3
   },
   "file_extension": ".py",
   "mimetype": "text/x-python",
   "name": "python",
   "nbconvert_exporter": "python",
   "pygments_lexer": "ipython3",
   "version": "3.7.3"
  }
 },
 "nbformat": 4,
 "nbformat_minor": 2
}
